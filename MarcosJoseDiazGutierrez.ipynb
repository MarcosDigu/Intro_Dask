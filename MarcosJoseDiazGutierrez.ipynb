{
 "cells": [
  {
   "cell_type": "markdown",
   "metadata": {},
   "source": [
    "<div style=\"text-align: center;\">\n",
    "\n",
    "# **White Papers**  \n",
    "### Python para la Inteligencia Artificial  \n",
    "#### Máster en Inteligencia Artificial  \n",
    "#### Universidad Internacional de Valencia  \n",
    "\n",
    "<br>\n",
    "\n",
    "![Logo VIU](logo_viu.png)  \n",
    "\n",
    "<br><br>\n",
    "\n",
    "## **\"Dask: Parallel Computation with Blocked Algorithms and Task Scheduling\"**\n",
    "\n",
    "<br><br>\n",
    "\n",
    "**Autor:** Marcos José Díaz Gutiérrez  \n",
    "**Fecha:** 19 de noviembre de 2024  \n",
    "\n",
    "</div>\n",
    "\n",
    "---\n"
   ]
  },
  {
   "cell_type": "markdown",
   "metadata": {},
   "source": [
    "# 📖 Índice\n",
    "\n",
    "1. ✨ **[Introducción](#1-introducción)**  \n",
    "   Descubre los conceptos básicos y el propósito de esta guía.\n",
    "\n",
    "2. 🔍 **[¿Cómo funciona Dask por detrás?](#2-cómo-funciona-dask-por-detrás)**  \n",
    "   Una mirada bajo el capó del motor de Dask.\n",
    "\n",
    "3. 🧮 **[El `dask.array`](#3-el-daskarray)**  \n",
    "   Exploramos cómo usar arrays distribuidos con Dask.\n",
    "\n",
    "4. ⚔️ **[Dask vs NumPy](#4-dask-vs-numpy)**  \n",
    "   Comparativa práctica entre estas dos herramientas.\n",
    "\n",
    "5. 📚 **[Referencias](#5-referencias)**  \n",
    "   Fuentes de información y bibliografía adicional.\n"
   ]
  },
  {
   "cell_type": "markdown",
   "metadata": {},
   "source": [
    "# 1. Introducción\n",
    "\n",
    "El artículo empieza con una oración clara y contundente: \"la comunidad de Python rara vez saca provecho de la computación el paralelo\". ¿Qué es la computación en paralelo? La computación en paralelo es un enfoque de procesamiento en el que varias tareas se realizan a la vez; en lugar de una tarea después de otra (computación en serie). Por supuesto, no todas las tareas son paralelizables: por ejemplo, cocinando pasta primero debemos poner el agua a hervir y luego echar la pasta. Sin emabrgo, en tareas como atender a los clientes de un supermercado, puede ser interesante abrir varias cajas para repartir la carga de trabajo entre éstas.\n",
    "\n",
    "En nuestros ordenadores, estas cajas para pagar en el supermercado son los nucleos de nuestra CPU. Estos núcleos son como pequeños cerebros dentro del procesador que realiza cálculos y ejecuta instrucciones. En la intoducción de su paper, Matthew Rocklin, asegura que código escrito en Numpy o Pandas rara vez aprovecha los procesos en paralelo ya que suelen trabajar con volumenes de datos que caben en memoria. Sin embargo, ¿qué ocurre cuando estos datos no caben en memoria? ¿Qué ocurre cuando, a pesar de gestionar manualmente la memoria de nuestra máquina, nos sigue saliendo el fastidioso error de \"MemoryError: Unable to allocate...\"?\n",
    "\n",
    "En esta librería, no se reinventa Numpy con el dask.array, o Pandas con el dask.dataframe, sino construye sobre ambas librerías para añadir las funcionalidades que hemos mencionado hasta ahora.\n",
    "\n",
    "En este trabajo, Rocklin demuestra cómo Dask, específicamente con su módulo dask.array, puede manejar eficientemente datos fuera de memoria y emplear algoritmos bloqueados para dividir tareas grandes en subtareas más pequeñas. La introducción plantea un desafío claro: alinear el ecosistema científico de Python con las capacidades del hardware moderno, utilizando herramientas que sean accesibles, eficientes y prácticas para la comunidad de desarrolladores."
   ]
  },
  {
   "cell_type": "markdown",
   "metadata": {},
   "source": [
    "# 2. ¿Cómo funciona Dask por detrás?\n",
    "\n",
    "Cuando instanciamos un objeto **dask.array**, **no se crean datos reales ni se realizan cálculos inmediatamente**. En su lugar, lo que ocurre es que el array se divide en **bloques**, y se construye un **gráfico de tareas** que describe cómo deben procesarse esos bloques.\n",
    "\n",
    "La clave de la eficiencia de Dask radica en este comportamiento: al definir un objeto, simplemente estamos especificando una secuencia de operaciones que **aún no se ejecutan**. Esta secuencia de acciones queda representada en un **gráfico de tareas**.\n",
    "\n",
    "**¿Qué es un DAG?** Desde un punto de vista técnico, estos gráficos de tareas se conocen como **DAGs** (*Directed Acyclic Graphs*), o gráficos dirigidos acíclicos. En este contexto:\n",
    "\n",
    "- Los **nodos** del grafo representan las tareas a realizar (por ejemplo, una operación matemática o la lectura de datos).\n",
    "- Las **aristas** indican el flujo de dependencias entre las tareas, es decir, el orden en el que deben ejecutarse.\n",
    "- El término **acíclico** significa que no hay ciclos, es decir, no existe un camino que permita volver al mismo nodo desde el que se partió. Esto asegura que las tareas no tengan dependencias circulares.\n",
    "\n",
    "**Ejecución Diferida**: Dask utiliza este enfoque para optimizar la ejecución. Las tareas definidas en el **DAG** no se ejecutan hasta que es estrictamente necesario, por ejemplo, cuando se llama al método `.compute()`. Esto permite planificar, paralelizar y administrar eficientemente las operaciones.\n",
    "\n",
    "En cierto sentido, Dask recuerda mucho a la forma y sustancia de Spark con grafos de ejecución, retrasando la ejecución de tareas, implementando DAGs... La cuestión de esta tarea no es Spark, pero lo conozco y me ha llamado la atención sus similitudes."
   ]
  },
  {
   "cell_type": "markdown",
   "metadata": {},
   "source": [
    "# 3. El dask.array"
   ]
  },
  {
   "cell_type": "markdown",
   "metadata": {},
   "source": [
    "A continuación, instanciamos un objeto de la clase dask.array:"
   ]
  },
  {
   "cell_type": "code",
   "execution_count": 12,
   "metadata": {},
   "outputs": [
    {
     "name": "stdout",
     "output_type": "stream",
     "text": [
      "dask.array<arange, shape=(100,), dtype=int32, chunksize=(20,), chunktype=numpy.ndarray>\n"
     ]
    }
   ],
   "source": [
    "import dask.array as da\n",
    "\n",
    "# Crear un Dask Array con argumentos válidos\n",
    "dask_array = da.arange(\n",
    "    0,                 # start: Límite inferior del rango.\n",
    "    100,               # stop: Límite superior del rango (sin incluir).\n",
    "    1,                 # step: Incremento entre elementos consecutivos.\n",
    "    dtype='int32',     # dtype: Tipo de datos de los elementos.\n",
    "    chunks=20          # chunks: Tamaño de los bloques en los que se divide el array.\n",
    ")\n",
    "\n",
    "# Mostrar información del Dask Array\n",
    "print(dask_array)\n"
   ]
  },
  {
   "cell_type": "markdown",
   "metadata": {},
   "source": [
    "- arange: es el nombre automático que Dask asigna a este objeto en el gráfico de tareas.\n",
    "- shape=(100,): es la forma del array. En este caso unidimensional de 100 elementos.\n",
    "- dtype=int32: tipo de dato de los elementos del array.\n",
    "- chunksize=(20,): indica el tamaño de los bloques en los que está divido el array. En este caso cada bloque tiene 20 elementos, lo que generará 5 bloques: [0,19], [20,39], [40,59], [60,79] y [80,99]\n",
    "- chunktype=numpy.ndarray: indica el tipo de cada bloque del array. En este caso, cada bloque es un numpy.ndarray\n",
    "\n",
    "A continuación, visualicemos el grafo de ejecución de este objeto:"
   ]
  },
  {
   "cell_type": "code",
   "execution_count": 13,
   "metadata": {},
   "outputs": [
    {
     "data": {
      "image/png": "[encoded data removed]",
      "text/plain": [
       "<IPython.core.display.Image object>"
      ]
     },
     "execution_count": 13,
     "metadata": {},
     "output_type": "execute_result"
    }
   ],
   "source": [
    "import os # Ignorar\n",
    "os.environ[\"PATH\"] += os.pathsep + r\"C:\\Users\\mjdiaz\\Graphviz\\Graphviz-12.2.0-win64\\bin\" # Ignorar\n",
    "\n",
    "dask_array.visualize()"
   ]
  },
  {
   "cell_type": "markdown",
   "metadata": {},
   "source": [
    "Este gráfico representa el **grafo de tareas** generado por Dask para el `dask.array` creado con `da.arange`. El grafo muestra cómo Dask divide el array en bloques y las dependencias entre las tareas necesarias para calcular cada bloque.\n",
    "\n",
    "1. **Nodos Circulares (Tareas `arange`)**:\n",
    "   - Cada círculo representa una tarea en el grafo.\n",
    "   - En este caso, cada tarea corresponde a una operación de `arange`, que genera un bloque del array.\n",
    "\n",
    "2. **Nodos Rectangulares (Resultados por Bloque)**:\n",
    "   - Cada nodo rectangular indica un bloque generado por una tarea `arange`.\n",
    "   - Los bloques están numerados como `0`, `1`, `2`, `3`, `4`.\n",
    "\n",
    "3. **Flechas (Dependencias)**:\n",
    "   - Las flechas indican que el nodo rectangular depende directamente de la tarea `arange` correspondiente.\n",
    "   - Por ejemplo, el bloque `0` es generado por la tarea `arange` que está justo debajo.\n",
    "\n"
   ]
  },
  {
   "cell_type": "markdown",
   "metadata": {},
   "source": [
    "Para ver un grafo más representativo, crearemos dos dask.arrays, el primero lo multiplicaremos por 2, y por ultimo sumaremos el nuevo array primero con el segundo y visualizaremos su grafo de ejecución: "
   ]
  },
  {
   "cell_type": "code",
   "execution_count": 14,
   "metadata": {},
   "outputs": [
    {
     "data": {
      "image/png": "[encoded data removed]",
      "text/plain": [
       "<IPython.core.display.Image object>"
      ]
     },
     "execution_count": 14,
     "metadata": {},
     "output_type": "execute_result"
    }
   ],
   "source": [
    "import dask.array as da\n",
    "\n",
    "# Crear dos dask.arrays\n",
    "# array1 = da.arange(20, chunks=5)\n",
    "# array2 = da.arange(20, chunks=5)\n",
    "array1 = da.arange(10, chunks=5)\n",
    "array2 = da.arange(10, chunks=5)\n",
    "\n",
    "# Operaciones con los arrays\n",
    "array1_multiplied = array1 * 2\n",
    "result = array1_multiplied + array2\n",
    "\n",
    "# Visualizar el grafo de ejecución\n",
    "result.visualize()"
   ]
  },
  {
   "cell_type": "markdown",
   "metadata": {},
   "source": [
    "Este grafo representa las operaciones realizadas sobre dos `dask.arrays` (`array1` y `array2`) y sus dependencias:\n",
    "\n",
    "1. **`arange`**: Crea los bloques individuales de `array1` y `array2`.\n",
    "\n",
    "2. **`mul`**: Multiplica cada bloque de `array1` por 2.\n",
    "\n",
    "3. **`add`**: Suma los bloques resultantes de `mul` con los bloques correspondientes de `array2`.\n",
    "\n",
    "**Flujo de Operaciones**: **`arange` (bloque de `array1`) → `mul` → `add` (con el bloque de `array2`)**.\n",
    "\n",
    "**¿Por qué parece que hay dos grafos repetidos, pero cambiando el 0 por un 1?** Cada grafo corresponde a un chunk de los arrays. Como cada array tiene 10 elementos, y el chunksize es 5 se generan 2 bloques. Cada dibujo de arriba hace referencia al DAG de cada bloque. Se anima al lector a cambiar el codigo de arriba para poner más elementos distribuidos de formas diferentes, haciendo que el visual contenga más DAGs.\n"
   ]
  },
  {
   "cell_type": "markdown",
   "metadata": {},
   "source": [
    "# 4. Dask vs NumPy\n",
    "\n",
    "En este experimento, compararemos el rendimiento entre **NumPy** y **Dask** al realizar operaciones sobre datos de gran tamaño. Debido a que NumPy es muy rápido para datos que caben en memoria, trabajaremos con datos lo suficientemente grandes como para que el manejo de memoria y el paralelismo de Dask muestren sus ventajas.\n",
    "\n",
    "El objetivo es evaluar:\n",
    "- **Tiempo de ejecución**: ¿Qué tan rápido se completan las operaciones en NumPy vs. Dask?\n",
    "- **Uso de memoria**: ¿Cómo manejan los datos ambas bibliotecas cuando exceden la memoria disponible?"
   ]
  },
  {
   "cell_type": "markdown",
   "metadata": {},
   "source": [
    "## **Creación de los Datos**\n",
    "\n",
    "Primero, generaremos un array de datos aleatorios con un tamaño muy grande (por ejemplo, 50,000 x 50,000). Este tamaño es suficiente para que los recursos del sistema se vean exigidos, mostrando así las diferencias entre NumPy y Dask.\n",
    "\n",
    "El array será utilizado para realizar operaciones matemáticas sencillas, como la suma de todos sus elementos.\n"
   ]
  },
  {
   "cell_type": "code",
   "execution_count": 15,
   "metadata": {},
   "outputs": [
    {
     "name": "stdout",
     "output_type": "stream",
     "text": [
      "Error: No hay suficiente memoria para crear el array de NumPy: Unable to allocate 18.6 GiB for an array with shape (50000, 50000) and data type float64\n",
      "Array de Dask creado con éxito. Tiempo: 0.20 segundos.\n"
     ]
    }
   ],
   "source": [
    "import numpy as np\n",
    "import dask.array as da\n",
    "import time\n",
    "\n",
    "shape = (50000, 50000)\n",
    "\n",
    "try:\n",
    "    start = time.time()\n",
    "    numpy_array = np.random.random(shape)  \n",
    "    print(f\"Array de NumPy creado con éxito. Tiempo: {time.time() - start:.2f} segundos.\")\n",
    "except MemoryError as e:\n",
    "    print(f\"Error: No hay suficiente memoria para crear el array de NumPy: {e}\")\n",
    "    numpy_array = None\n",
    "\n",
    "start = time.time()\n",
    "dask_array = da.random.random(shape, chunks=(1000, 1000))  \n",
    "print(f\"Array de Dask creado con éxito. Tiempo: {time.time() - start:.2f} segundos.\")\n"
   ]
  },
  {
   "cell_type": "markdown",
   "metadata": {},
   "source": [
    "## **Operación 1: Suma Total de los Elementos**\n",
    "\n",
    "Vamos a calcular la suma de todos los elementos del array en ambos casos. Mediremos el tiempo de ejecución para cada biblioteca y compararemos los resultados.\n"
   ]
  },
  {
   "cell_type": "code",
   "execution_count": 16,
   "metadata": {},
   "outputs": [
    {
     "name": "stdout",
     "output_type": "stream",
     "text": [
      "numpy_array está definido pero es None.\n"
     ]
    }
   ],
   "source": [
    "try:\n",
    "    if numpy_array is not None:\n",
    "        start_numpy = time.time()\n",
    "        numpy_sum = numpy_array.sum()\n",
    "        end_numpy = time.time()\n",
    "\n",
    "        print(f\"Suma con NumPy: {numpy_sum:.2f}\")\n",
    "        print(f\"Tiempo de ejecución con NumPy: {end_numpy - start_numpy:.2f} segundos\")\n",
    "    else:\n",
    "        print('numpy_array está definido pero es None.')\n",
    "except NameError:\n",
    "    print('numpy_array no está definido porque no cabe en memoria.')\n"
   ]
  },
  {
   "cell_type": "markdown",
   "metadata": {},
   "source": [
    "Desafortunadamente, en mi ordenador con 16GB de RAM no cabe un archivo tan grande..."
   ]
  },
  {
   "cell_type": "code",
   "execution_count": 17,
   "metadata": {},
   "outputs": [
    {
     "name": "stdout",
     "output_type": "stream",
     "text": [
      "Suma con Dask: 1249981652.24\n",
      "Tiempo de ejecución con Dask: 10.75 segundos\n"
     ]
    }
   ],
   "source": [
    "start_dask = time.time()\n",
    "dask_sum = dask_array.sum().compute() # Recordamos que la accion no se lleva a cabo hasta que no hacemos .compute() o hasta que no sea estrictamente necesario.\n",
    "end_dask = time.time()\n",
    "\n",
    "print(f\"Suma con Dask: {dask_sum:.2f}\")\n",
    "print(f\"Tiempo de ejecución con Dask: {end_dask - start_dask:.2f} segundos\")"
   ]
  },
  {
   "cell_type": "markdown",
   "metadata": {},
   "source": [
    "## **Resultados**\n",
    "\n",
    "Al comparar los tiempos de ejecución de NumPy y Dask, es probable que veas:\n",
    "1. **NumPy**: Es extremadamente rápido cuando los datos caben en memoria, ya que utiliza operaciones optimizadas en C.\n",
    "2. **Dask**: Tiene un mayor tiempo inicial debido a la construcción y optimización del grafo de tareas, pero su ventaja aparece cuando los datos exceden la memoria disponible.\n",
    "\n",
    "Por ejemplo:\n",
    "- Si los datos caben en memoria, NumPy será más rápido.\n",
    "- Si los datos son demasiado grandes para caber en memoria, Dask permitirá procesarlos dividiéndolos en bloques y aprovechando múltiples núcleos.\n",
    "\n"
   ]
  },
  {
   "cell_type": "code",
   "execution_count": 18,
   "metadata": {},
   "outputs": [
    {
     "name": "stdout",
     "output_type": "stream",
     "text": [
      "Como el array no cabe en memoria, no se puede calcular su tiempo correctamente\n"
     ]
    }
   ],
   "source": [
    "try:\n",
    "    numpy_time = end_numpy - start_numpy\n",
    "    dask_time = end_dask - start_dask\n",
    "    if numpy_time < dask_time:\n",
    "        print(\"Conclusión: NumPy es más rápido en este caso porque los datos caben en memoria.\")\n",
    "    else:\n",
    "        print(\"Conclusión: Dask muestra ventajas cuando los datos son muy grandes o el sistema tiene memoria limitada.\")\n",
    "except NameError as e:\n",
    "    print(f'Como el array no cabe en memoria, no se puede calcular su tiempo correctamente')"
   ]
  },
  {
   "cell_type": "markdown",
   "metadata": {},
   "source": [
    "## **Conclusión General**\n",
    "\n",
    "En este experimento, observamos las diferencias entre **NumPy** y **Dask**:\n",
    "- NumPy es más rápido en sistemas donde los datos caben en memoria, debido a su implementación optimizada.\n",
    "- Dask sobresale cuando los datos son demasiado grandes para la memoria del sistema, ya que puede manejar datos por bloques y aprovechar el paralelismo.\n",
    "\n",
    "Este experimento muestra cómo elegir la herramienta correcta dependiendo del caso de uso. Para problemas pequeños o que caben en memoria, NumPy es la opción preferida. Para datos grandes o problemas distribuidos, Dask es más eficiente.\n"
   ]
  },
  {
   "cell_type": "markdown",
   "metadata": {},
   "source": [
    "## 5. Referencias\n",
    "\n",
    "1. **NumPy**  \n",
    "   Harris, C. R., Millman, K. J., van der Walt, S. J., Gommers, R., Virtanen, P., Cournapeau, D., ... & Oliphant, T. E. (2020). Array programming with NumPy. *Nature*, 585(7825), 357-362.  \n",
    "   [https://numpy.org](https://numpy.org)\n",
    "\n",
    "2. **Dask**  \n",
    "   Rocklin, M. (2015). Dask: Parallel computation with blocked algorithms and task scheduling. In *Proceedings of the 14th Python in Science Conference* (pp. 126-132).  \n",
    "   [https://dask.org](https://dask.org)\n",
    "\n",
    "3. **Dask-ML**  \n",
    "   Dask Development Team. (2023). Dask-ML Documentation.  \n",
    "   [https://ml.dask.org](https://ml.dask.org)\n",
    "\n",
    "4. **Apache Spark**  \n",
    "   Zaharia, M., Chowdhury, M., Franklin, M. J., Shenker, S., & Stoica, I. (2010). Spark: Cluster computing with working sets. In *Proceedings of the 2nd USENIX Conference on Hot Topics in Cloud Computing* (pp. 10-10).  \n",
    "   [https://spark.apache.org](https://spark.apache.org)\n"
   ]
  }
 ],
 "metadata": {
  "kernelspec": {
   "display_name": "entorno_viu_programacion",
   "language": "python",
   "name": "python3"
  },
  "language_info": {
   "codemirror_mode": {
    "name": "ipython",
    "version": 3
   },
   "file_extension": ".py",
   "mimetype": "text/x-python",
   "name": "python",
   "nbconvert_exporter": "python",
   "pygments_lexer": "ipython3",
   "version": "3.9.19"
  }
 },
 "nbformat": 4,
 "nbformat_minor": 2
}
